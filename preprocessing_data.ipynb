{
 "cells": [
  {
   "cell_type": "code",
   "execution_count": 1,
   "metadata": {},
   "outputs": [],
   "source": [
    "#This notebook details the data preprocessing pipeline I used. \n",
    "#This isn't very formalized as I quite often went back and form in a data\n",
    "#exploratory way in order to figure out the right order of precedence.\n",
    "\n",
    "import pickle\n",
    "import preprocessing\n",
    "import pandas as pd\n",
    "import nltk\n",
    "import re\n",
    "import data_formatting\n",
    "\n",
    "from joblib import Parallel, delayed\n",
    "import os\n",
    "import numpy as np\n",
    "\n",
    "import seaborn as sns\n",
    "import string\n",
    "\n",
    "def stripLineBreak(x):\n",
    "    return x.replace('\\n', '')\n",
    "\n",
    "def createConversations(all_text):\n",
    "    conv = [[all_text[idx_text], all_text[idx_text+1]] for idx_text, text in enumerate(all_text[:-1])]\n",
    "    return conv\n",
    "\n",
    "import matplotlib.pyplot as plt\n",
    "%matplotlib inline"
   ]
  },
  {
   "cell_type": "code",
   "execution_count": null,
   "metadata": {},
   "outputs": [],
   "source": [
    "#dataset = 'de_en'\n",
    "#t_enc = open(r'C:\\Users\\euix\\nmt_data\\wmt16_de_en\\train.en', 'r', encoding='utf8')\n",
    "#t_dec = open(r'C:\\Users\\euix\\nmt_data\\wmt16_de_en\\train.de', 'r', encoding='utf8')\n",
    "\n",
    "#t_enc = t_enc.readlines()\n",
    "#t_dec = t_dec.readlines()"
   ]
  },
  {
   "cell_type": "code",
   "execution_count": null,
   "metadata": {},
   "outputs": [],
   "source": [
    "#Raw data is converted to a dataframe of two columns representing encoder and decoder inputs\n",
    "dataset = 'twitter'\n",
    "#twitter_data = open('../../datasets/chat.txt', 'r', encoding='utf-8')\n",
    "twitter_data = open('../../datasets/chat_corpus/cleaned_corpus_en.txt', 'r', encoding='utf-8')\n",
    "\n",
    "twitter_lines = twitter_data.readlines()\n",
    "\n",
    "twitter_convs = [[line for idx, line in enumerate(twitter_lines) if idx%2==1], \n",
    "              [line for idx, line in enumerate(twitter_lines) if idx%2==0]]\n",
    "\n",
    "df_all = pd.DataFrame(list(zip(*twitter_convs)), columns=['Pair_0', 'Pair_1']) "
   ]
  },
  {
   "cell_type": "code",
   "execution_count": null,
   "metadata": {},
   "outputs": [],
   "source": [
    "print ('rows of data', df_all.shape[0])"
   ]
  },
  {
   "cell_type": "code",
   "execution_count": null,
   "metadata": {},
   "outputs": [],
   "source": [
    "#df_all = df_all.sample(frac=1, random_state=0)"
   ]
  },
  {
   "cell_type": "code",
   "execution_count": null,
   "metadata": {},
   "outputs": [],
   "source": [
    "#Remove non-alphanumeric characters and strip any line breaks\n",
    "\n",
    "df_all['Pair_0'] = df_all['Pair_0'].apply(preprocessing.remove_non_ascii)\n",
    "\n",
    "df_all['Pair_1'] = df_all['Pair_1'].apply(preprocessing.remove_non_ascii)\n",
    "\n",
    "df_all['Pair_0'] = df_all['Pair_0'].apply(stripLineBreak)\n",
    "\n",
    "df_all['Pair_1'] = df_all['Pair_1'].apply(stripLineBreak)"
   ]
  },
  {
   "cell_type": "code",
   "execution_count": 6,
   "metadata": {},
   "outputs": [
    {
     "name": "stderr",
     "output_type": "stream",
     "text": [
      "[Parallel(n_jobs=-1)]: Done   2 tasks      | elapsed:    2.6s\n",
      "[Parallel(n_jobs=-1)]: Done  25 tasks      | elapsed:   10.0s\n",
      "[Parallel(n_jobs=-1)]: Done  59 tasks      | elapsed:   10.0s\n",
      "[Parallel(n_jobs=-1)]: Done 38733 tasks      | elapsed:   11.1s\n",
      "[Parallel(n_jobs=-1)]: Done 170543 tasks      | elapsed:   13.1s\n",
      "[Parallel(n_jobs=-1)]: Done 329253 tasks      | elapsed:   15.4s\n",
      "[Parallel(n_jobs=-1)]: Done 509483 tasks      | elapsed:   18.4s\n",
      "[Parallel(n_jobs=-1)]: Done 716613 tasks      | elapsed:   21.5s\n",
      "[Parallel(n_jobs=-1)]: Done 945263 tasks      | elapsed:   25.3s\n",
      "[Parallel(n_jobs=-1)]: Done 1200813 tasks      | elapsed:   29.5s\n",
      "[Parallel(n_jobs=-1)]: Done 1477883 tasks      | elapsed:   33.8s\n",
      "[Parallel(n_jobs=-1)]: Done 1781853 tasks      | elapsed:   38.5s\n",
      "[Parallel(n_jobs=-1)]: Done 2107343 tasks      | elapsed:   43.8s\n",
      "[Parallel(n_jobs=-1)]: Done 2459733 tasks      | elapsed:   49.9s\n",
      "[Parallel(n_jobs=-1)]: Done 2601244 out of 2601244 | elapsed:   51.4s finished\n",
      "[Parallel(n_jobs=-1)]: Done   2 tasks      | elapsed:    2.5s\n",
      "[Parallel(n_jobs=-1)]: Done  25 tasks      | elapsed:    9.9s\n",
      "[Parallel(n_jobs=-1)]: Done  59 tasks      | elapsed:    9.9s\n",
      "[Parallel(n_jobs=-1)]: Done 40405 tasks      | elapsed:   11.2s\n",
      "[Parallel(n_jobs=-1)]: Done 187797 tasks      | elapsed:   14.0s\n",
      "[Parallel(n_jobs=-1)]: Done 365269 tasks      | elapsed:   17.2s\n",
      "[Parallel(n_jobs=-1)]: Done 566805 tasks      | elapsed:   20.6s\n",
      "[Parallel(n_jobs=-1)]: Done 798421 tasks      | elapsed:   24.9s\n",
      "[Parallel(n_jobs=-1)]: Done 1054101 tasks      | elapsed:   29.4s\n",
      "[Parallel(n_jobs=-1)]: Done 1339861 tasks      | elapsed:   34.6s\n",
      "[Parallel(n_jobs=-1)]: Done 1649685 tasks      | elapsed:   40.2s\n",
      "[Parallel(n_jobs=-1)]: Done 1989589 tasks      | elapsed:   46.8s\n",
      "[Parallel(n_jobs=-1)]: Done 2353557 tasks      | elapsed:   53.6s\n",
      "[Parallel(n_jobs=-1)]: Done 2601244 out of 2601244 | elapsed:   57.3s finished\n"
     ]
    }
   ],
   "source": [
    "#Check and remove all non-alphanumeric characters except end sentence chars (i.e. !, ?)\n",
    "Pair_0_char_checked = Parallel(n_jobs=-1, verbose=8)(delayed(preprocessing.checkChars)(i) for i in df_all['Pair_0'].values)\n",
    "Pair_1_char_checked = Parallel(n_jobs=-1, verbose=8)(delayed(preprocessing.checkChars)(i) for i in df_all['Pair_1'].values)"
   ]
  },
  {
   "cell_type": "code",
   "execution_count": 7,
   "metadata": {},
   "outputs": [],
   "source": [
    "df_all['Pair_0_char_checked'] = Pair_0_char_checked\n",
    "\n",
    "df_all['Pair_1_char_checked'] = Pair_1_char_checked"
   ]
  },
  {
   "cell_type": "code",
   "execution_count": 8,
   "metadata": {},
   "outputs": [],
   "source": [
    "Pair_0_char_checked = []\n",
    "Pair_1_char_checked = []"
   ]
  },
  {
   "cell_type": "code",
   "execution_count": 9,
   "metadata": {},
   "outputs": [
    {
     "name": "stderr",
     "output_type": "stream",
     "text": [
      "[Parallel(n_jobs=-1)]: Done   2 tasks      | elapsed:    2.5s\n",
      "[Parallel(n_jobs=-1)]: Done  25 tasks      | elapsed:    9.8s\n",
      "[Parallel(n_jobs=-1)]: Done  58 tasks      | elapsed:    9.8s\n",
      "[Parallel(n_jobs=-1)]: Done 10887 tasks      | elapsed:   10.9s\n",
      "[Parallel(n_jobs=-1)]: Done 40189 tasks      | elapsed:   14.1s\n",
      "[Parallel(n_jobs=-1)]: Done 75471 tasks      | elapsed:   17.7s\n",
      "[Parallel(n_jobs=-1)]: Done 115537 tasks      | elapsed:   21.9s\n",
      "[Parallel(n_jobs=-1)]: Done 161583 tasks      | elapsed:   26.4s\n",
      "[Parallel(n_jobs=-1)]: Done 212413 tasks      | elapsed:   31.5s\n",
      "[Parallel(n_jobs=-1)]: Done 269223 tasks      | elapsed:   37.0s\n",
      "[Parallel(n_jobs=-1)]: Done 330817 tasks      | elapsed:   43.0s\n",
      "[Parallel(n_jobs=-1)]: Done 398391 tasks      | elapsed:   49.6s\n",
      "[Parallel(n_jobs=-1)]: Done 470749 tasks      | elapsed:   56.8s\n",
      "[Parallel(n_jobs=-1)]: Done 549087 tasks      | elapsed:  1.1min\n",
      "[Parallel(n_jobs=-1)]: Done 632209 tasks      | elapsed:  1.2min\n",
      "[Parallel(n_jobs=-1)]: Done 721311 tasks      | elapsed:  1.4min\n",
      "[Parallel(n_jobs=-1)]: Done 815197 tasks      | elapsed:  1.5min\n",
      "[Parallel(n_jobs=-1)]: Done 915063 tasks      | elapsed:  1.7min\n",
      "[Parallel(n_jobs=-1)]: Done 1019713 tasks      | elapsed:  1.9min\n",
      "[Parallel(n_jobs=-1)]: Done 1130343 tasks      | elapsed:  2.0min\n",
      "[Parallel(n_jobs=-1)]: Done 1245757 tasks      | elapsed:  2.2min\n",
      "[Parallel(n_jobs=-1)]: Done 1367151 tasks      | elapsed:  2.4min\n",
      "[Parallel(n_jobs=-1)]: Done 1493329 tasks      | elapsed:  2.6min\n",
      "[Parallel(n_jobs=-1)]: Done 1625487 tasks      | elapsed:  2.9min\n",
      "[Parallel(n_jobs=-1)]: Done 1701732 tasks      | elapsed:  3.0min\n",
      "[Parallel(n_jobs=-1)]: Done 1773193 tasks      | elapsed:  3.1min\n",
      "[Parallel(n_jobs=-1)]: Done 1847046 tasks      | elapsed:  3.2min\n",
      "[Parallel(n_jobs=-1)]: Done 1923889 tasks      | elapsed:  3.3min\n",
      "[Parallel(n_jobs=-1)]: Done 2003124 tasks      | elapsed:  3.5min\n",
      "[Parallel(n_jobs=-1)]: Done 2085349 tasks      | elapsed:  3.6min\n",
      "[Parallel(n_jobs=-1)]: Done 2169966 tasks      | elapsed:  3.8min\n",
      "[Parallel(n_jobs=-1)]: Done 2257573 tasks      | elapsed:  3.9min\n",
      "[Parallel(n_jobs=-1)]: Done 2327498 tasks      | elapsed:  4.0min\n",
      "[Parallel(n_jobs=-1)]: Done 2420798 tasks      | elapsed:  4.2min\n",
      "[Parallel(n_jobs=-1)]: Done 2516498 tasks      | elapsed:  4.4min\n",
      "[Parallel(n_jobs=-1)]: Done 2601244 out of 2601244 | elapsed:  4.5min finished\n"
     ]
    }
   ],
   "source": [
    "#Word tokenize each sentence, count the length and append <EOS> char\n",
    "alpha_Pair_0_tokens = Parallel(n_jobs=-1, verbose=8)(\\\n",
    "                            delayed(preprocessing.checkAlphaLower)(i) for i in df_all['Pair_0_char_checked'].values)"
   ]
  },
  {
   "cell_type": "code",
   "execution_count": 10,
   "metadata": {},
   "outputs": [
    {
     "name": "stderr",
     "output_type": "stream",
     "text": [
      "[Parallel(n_jobs=-1)]: Done   2 tasks      | elapsed:    2.6s\n",
      "[Parallel(n_jobs=-1)]: Done  25 tasks      | elapsed:   10.1s\n",
      "[Parallel(n_jobs=-1)]: Done  56 tasks      | elapsed:   10.1s\n",
      "[Parallel(n_jobs=-1)]: Done 9707 tasks      | elapsed:   11.3s\n",
      "[Parallel(n_jobs=-1)]: Done 38911 tasks      | elapsed:   14.1s\n",
      "[Parallel(n_jobs=-1)]: Done 74075 tasks      | elapsed:   17.5s\n",
      "[Parallel(n_jobs=-1)]: Done 114007 tasks      | elapsed:   21.2s\n",
      "[Parallel(n_jobs=-1)]: Done 159899 tasks      | elapsed:   25.6s\n",
      "[Parallel(n_jobs=-1)]: Done 210559 tasks      | elapsed:   30.5s\n",
      "[Parallel(n_jobs=-1)]: Done 267179 tasks      | elapsed:   36.0s\n",
      "[Parallel(n_jobs=-1)]: Done 328567 tasks      | elapsed:   41.9s\n",
      "[Parallel(n_jobs=-1)]: Done 395915 tasks      | elapsed:   48.7s\n",
      "[Parallel(n_jobs=-1)]: Done 459389 tasks      | elapsed:   56.8s\n",
      "[Parallel(n_jobs=-1)]: Done 498427 tasks      | elapsed:  1.0min\n",
      "[Parallel(n_jobs=-1)]: Done 539849 tasks      | elapsed:  1.1min\n",
      "[Parallel(n_jobs=-1)]: Done 584251 tasks      | elapsed:  1.2min\n",
      "[Parallel(n_jobs=-1)]: Done 631037 tasks      | elapsed:  1.2min\n",
      "[Parallel(n_jobs=-1)]: Done 680803 tasks      | elapsed:  1.3min\n",
      "[Parallel(n_jobs=-1)]: Done 732953 tasks      | elapsed:  1.4min\n",
      "[Parallel(n_jobs=-1)]: Done 788083 tasks      | elapsed:  1.5min\n",
      "[Parallel(n_jobs=-1)]: Done 845597 tasks      | elapsed:  1.6min\n",
      "[Parallel(n_jobs=-1)]: Done 906091 tasks      | elapsed:  1.7min\n",
      "[Parallel(n_jobs=-1)]: Done 968969 tasks      | elapsed:  1.8min\n",
      "[Parallel(n_jobs=-1)]: Done 1021566 tasks      | elapsed:  1.9min\n",
      "[Parallel(n_jobs=-1)]: Done 1055687 tasks      | elapsed:  2.0min\n",
      "[Parallel(n_jobs=-1)]: Done 1091298 tasks      | elapsed:  2.0min\n",
      "[Parallel(n_jobs=-1)]: Done 1128101 tasks      | elapsed:  2.1min\n",
      "[Parallel(n_jobs=-1)]: Done 1166394 tasks      | elapsed:  2.2min\n",
      "[Parallel(n_jobs=-1)]: Done 1205879 tasks      | elapsed:  2.2min\n",
      "[Parallel(n_jobs=-1)]: Done 1246854 tasks      | elapsed:  2.3min\n",
      "[Parallel(n_jobs=-1)]: Done 1289021 tasks      | elapsed:  2.4min\n",
      "[Parallel(n_jobs=-1)]: Done 1332678 tasks      | elapsed:  2.4min\n",
      "[Parallel(n_jobs=-1)]: Done 1377527 tasks      | elapsed:  2.5min\n",
      "[Parallel(n_jobs=-1)]: Done 1423866 tasks      | elapsed:  2.6min\n",
      "[Parallel(n_jobs=-1)]: Done 1471397 tasks      | elapsed:  2.7min\n",
      "[Parallel(n_jobs=-1)]: Done 1520418 tasks      | elapsed:  2.7min\n",
      "[Parallel(n_jobs=-1)]: Done 1570631 tasks      | elapsed:  2.8min\n",
      "[Parallel(n_jobs=-1)]: Done 1622334 tasks      | elapsed:  2.9min\n",
      "[Parallel(n_jobs=-1)]: Done 1675229 tasks      | elapsed:  3.0min\n",
      "[Parallel(n_jobs=-1)]: Done 1729614 tasks      | elapsed:  3.1min\n",
      "[Parallel(n_jobs=-1)]: Done 1785191 tasks      | elapsed:  3.2min\n",
      "[Parallel(n_jobs=-1)]: Done 1937003 tasks      | elapsed:  3.5min\n",
      "[Parallel(n_jobs=-1)]: Done 2104351 tasks      | elapsed:  3.8min\n",
      "[Parallel(n_jobs=-1)]: Done 2275979 tasks      | elapsed:  4.1min\n",
      "[Parallel(n_jobs=-1)]: Done 2451031 tasks      | elapsed:  4.4min\n",
      "[Parallel(n_jobs=-1)]: Done 2589061 tasks      | elapsed:  4.7min\n",
      "[Parallel(n_jobs=-1)]: Done 2601244 out of 2601244 | elapsed:  4.7min finished\n"
     ]
    }
   ],
   "source": [
    "alpha_Pair_1_tokens = Parallel(n_jobs=-1, verbose=8)(\\\n",
    "                            delayed(preprocessing.checkAlphaLower)(i) for i in df_all['Pair_1_char_checked'].values)"
   ]
  },
  {
   "cell_type": "code",
   "execution_count": 11,
   "metadata": {},
   "outputs": [],
   "source": [
    "df_all['alpha_Pair_0_tokens'] = list(zip(*alpha_Pair_0_tokens))[0]\n",
    "\n",
    "df_all['alpha_Pair_1_tokens'] = list(zip(*alpha_Pair_1_tokens))[0]"
   ]
  },
  {
   "cell_type": "code",
   "execution_count": 12,
   "metadata": {},
   "outputs": [],
   "source": [
    "df_all['n_alpha_Pair_0_tokens'] = list(zip(*alpha_Pair_0_tokens))[1]\n",
    "\n",
    "df_all['n_alpha_Pair_1_tokens'] = list(zip(*alpha_Pair_1_tokens))[1]"
   ]
  },
  {
   "cell_type": "code",
   "execution_count": 13,
   "metadata": {},
   "outputs": [],
   "source": [
    "alpha_Pair_0_tokens = []\n",
    "alpha_Pair_1_tokens = []"
   ]
  },
  {
   "cell_type": "code",
   "execution_count": 14,
   "metadata": {},
   "outputs": [],
   "source": [
    "#Strip rows that are now empty\n",
    "df_all = df_all[df_all['n_alpha_Pair_0_tokens'] != 0]\n",
    "\n",
    "df_all = df_all[df_all['n_alpha_Pair_1_tokens'] != 0]"
   ]
  },
  {
   "cell_type": "code",
   "execution_count": 15,
   "metadata": {
    "scrolled": true
   },
   "outputs": [
    {
     "name": "stderr",
     "output_type": "stream",
     "text": [
      "[Parallel(n_jobs=-1)]: Done   2 tasks      | elapsed:    2.5s\n",
      "[Parallel(n_jobs=-1)]: Done  25 tasks      | elapsed:    9.8s\n",
      "[Parallel(n_jobs=-1)]: Done  58 tasks      | elapsed:    9.8s\n",
      "[Parallel(n_jobs=-1)]: Done 11260 tasks      | elapsed:   10.9s\n",
      "[Parallel(n_jobs=-1)]: Done 49774 tasks      | elapsed:   13.8s\n",
      "[Parallel(n_jobs=-1)]: Done 96148 tasks      | elapsed:   17.5s\n",
      "[Parallel(n_jobs=-1)]: Done 148810 tasks      | elapsed:   21.5s\n",
      "[Parallel(n_jobs=-1)]: Done 209332 tasks      | elapsed:   26.3s\n",
      "[Parallel(n_jobs=-1)]: Done 276142 tasks      | elapsed:   31.3s\n",
      "[Parallel(n_jobs=-1)]: Done 346096 tasks      | elapsed:   39.4s\n",
      "[Parallel(n_jobs=-1)]: Done 386575 tasks      | elapsed:   42.7s\n",
      "[Parallel(n_jobs=-1)]: Done 430984 tasks      | elapsed:   46.0s\n",
      "[Parallel(n_jobs=-1)]: Done 478537 tasks      | elapsed:   49.7s\n",
      "[Parallel(n_jobs=-1)]: Done 530020 tasks      | elapsed:   53.9s\n",
      "[Parallel(n_jobs=-1)]: Done 584647 tasks      | elapsed:   58.3s\n",
      "[Parallel(n_jobs=-1)]: Done 643204 tasks      | elapsed:  1.1min\n",
      "[Parallel(n_jobs=-1)]: Done 704905 tasks      | elapsed:  1.1min\n",
      "[Parallel(n_jobs=-1)]: Done 758716 tasks      | elapsed:  1.3min\n",
      "[Parallel(n_jobs=-1)]: Done 793016 tasks      | elapsed:  1.3min\n",
      "[Parallel(n_jobs=-1)]: Done 829276 tasks      | elapsed:  1.4min\n",
      "[Parallel(n_jobs=-1)]: Done 867104 tasks      | elapsed:  1.4min\n",
      "[Parallel(n_jobs=-1)]: Done 906892 tasks      | elapsed:  1.5min\n",
      "[Parallel(n_jobs=-1)]: Done 948248 tasks      | elapsed:  1.5min\n",
      "[Parallel(n_jobs=-1)]: Done 991564 tasks      | elapsed:  1.6min\n",
      "[Parallel(n_jobs=-1)]: Done 1036448 tasks      | elapsed:  1.6min\n",
      "[Parallel(n_jobs=-1)]: Done 1083292 tasks      | elapsed:  1.7min\n",
      "[Parallel(n_jobs=-1)]: Done 1131704 tasks      | elapsed:  1.8min\n",
      "[Parallel(n_jobs=-1)]: Done 1182860 tasks      | elapsed:  1.8min\n",
      "[Parallel(n_jobs=-1)]: Done 1286740 tasks      | elapsed:  2.0min\n",
      "[Parallel(n_jobs=-1)]: Done 1352988 tasks      | elapsed:  2.1min\n",
      "[Parallel(n_jobs=-1)]: Done 1408456 tasks      | elapsed:  2.2min\n",
      "[Parallel(n_jobs=-1)]: Done 1465884 tasks      | elapsed:  2.3min\n",
      "[Parallel(n_jobs=-1)]: Done 1524880 tasks      | elapsed:  2.3min\n",
      "[Parallel(n_jobs=-1)]: Done 1585836 tasks      | elapsed:  2.4min\n",
      "[Parallel(n_jobs=-1)]: Done 1648360 tasks      | elapsed:  2.5min\n",
      "[Parallel(n_jobs=-1)]: Done 1712844 tasks      | elapsed:  2.6min\n",
      "[Parallel(n_jobs=-1)]: Done 1778896 tasks      | elapsed:  2.7min\n",
      "[Parallel(n_jobs=-1)]: Done 1846908 tasks      | elapsed:  2.8min\n",
      "[Parallel(n_jobs=-1)]: Done 1916488 tasks      | elapsed:  2.9min\n",
      "[Parallel(n_jobs=-1)]: Done 1988028 tasks      | elapsed:  3.0min\n",
      "[Parallel(n_jobs=-1)]: Done 2075972 tasks      | elapsed:  3.2min\n",
      "[Parallel(n_jobs=-1)]: Done 2174786 tasks      | elapsed:  3.3min\n",
      "[Parallel(n_jobs=-1)]: Done 2275664 tasks      | elapsed:  3.4min\n",
      "[Parallel(n_jobs=-1)]: Done 2379122 tasks      | elapsed:  3.6min\n",
      "[Parallel(n_jobs=-1)]: Done 2484644 tasks      | elapsed:  3.7min\n",
      "[Parallel(n_jobs=-1)]: Done 2592746 tasks      | elapsed:  3.9min\n",
      "[Parallel(n_jobs=-1)]: Done 2601244 out of 2601244 | elapsed:  3.9min finished\n",
      "[Parallel(n_jobs=-1)]: Done   2 tasks      | elapsed:   10.6s\n",
      "[Parallel(n_jobs=-1)]: Done  25 tasks      | elapsed:   18.3s\n",
      "[Parallel(n_jobs=-1)]: Done  58 tasks      | elapsed:   18.3s\n",
      "[Parallel(n_jobs=-1)]: Done 9006 tasks      | elapsed:   19.3s\n",
      "[Parallel(n_jobs=-1)]: Done 33114 tasks      | elapsed:   21.8s\n",
      "[Parallel(n_jobs=-1)]: Done 62142 tasks      | elapsed:   24.5s\n",
      "[Parallel(n_jobs=-1)]: Done 95106 tasks      | elapsed:   27.5s\n",
      "[Parallel(n_jobs=-1)]: Done 132990 tasks      | elapsed:   30.9s\n",
      "[Parallel(n_jobs=-1)]: Done 174810 tasks      | elapsed:   34.4s\n",
      "[Parallel(n_jobs=-1)]: Done 221550 tasks      | elapsed:   38.5s\n",
      "[Parallel(n_jobs=-1)]: Done 272226 tasks      | elapsed:   42.8s\n",
      "[Parallel(n_jobs=-1)]: Done 327822 tasks      | elapsed:   47.5s\n",
      "[Parallel(n_jobs=-1)]: Done 387354 tasks      | elapsed:   52.9s\n",
      "[Parallel(n_jobs=-1)]: Done 451806 tasks      | elapsed:   58.7s\n",
      "[Parallel(n_jobs=-1)]: Done 520194 tasks      | elapsed:  1.1min\n",
      "[Parallel(n_jobs=-1)]: Done 593502 tasks      | elapsed:  1.2min\n",
      "[Parallel(n_jobs=-1)]: Done 664350 tasks      | elapsed:  1.4min\n",
      "[Parallel(n_jobs=-1)]: Done 705432 tasks      | elapsed:  1.5min\n",
      "[Parallel(n_jobs=-1)]: Done 748482 tasks      | elapsed:  1.5min\n",
      "[Parallel(n_jobs=-1)]: Done 793992 tasks      | elapsed:  1.6min\n",
      "[Parallel(n_jobs=-1)]: Done 841470 tasks      | elapsed:  1.7min\n",
      "[Parallel(n_jobs=-1)]: Done 891408 tasks      | elapsed:  1.8min\n",
      "[Parallel(n_jobs=-1)]: Done 943314 tasks      | elapsed:  1.8min\n",
      "[Parallel(n_jobs=-1)]: Done 997680 tasks      | elapsed:  1.9min\n",
      "[Parallel(n_jobs=-1)]: Done 1054014 tasks      | elapsed:  2.0min\n",
      "[Parallel(n_jobs=-1)]: Done 1112808 tasks      | elapsed:  2.1min\n",
      "[Parallel(n_jobs=-1)]: Done 1173570 tasks      | elapsed:  2.2min\n",
      "[Parallel(n_jobs=-1)]: Done 1236792 tasks      | elapsed:  2.3min\n",
      "[Parallel(n_jobs=-1)]: Done 1301982 tasks      | elapsed:  2.4min\n",
      "[Parallel(n_jobs=-1)]: Done 1369632 tasks      | elapsed:  2.5min\n",
      "[Parallel(n_jobs=-1)]: Done 1439250 tasks      | elapsed:  2.6min\n",
      "[Parallel(n_jobs=-1)]: Done 1511328 tasks      | elapsed:  2.7min\n",
      "[Parallel(n_jobs=-1)]: Done 1585374 tasks      | elapsed:  2.8min\n",
      "[Parallel(n_jobs=-1)]: Done 1658682 tasks      | elapsed:  3.1min\n",
      "[Parallel(n_jobs=-1)]: Done 1737156 tasks      | elapsed:  3.2min\n",
      "[Parallel(n_jobs=-1)]: Done 1818090 tasks      | elapsed:  3.3min\n",
      "[Parallel(n_jobs=-1)]: Done 1900992 tasks      | elapsed:  3.4min\n",
      "[Parallel(n_jobs=-1)]: Done 1986354 tasks      | elapsed:  3.6min\n",
      "[Parallel(n_jobs=-1)]: Done 2073684 tasks      | elapsed:  3.7min\n",
      "[Parallel(n_jobs=-1)]: Done 2163474 tasks      | elapsed:  3.8min\n",
      "[Parallel(n_jobs=-1)]: Done 2255232 tasks      | elapsed:  4.0min\n",
      "[Parallel(n_jobs=-1)]: Done 2349450 tasks      | elapsed:  4.1min\n",
      "[Parallel(n_jobs=-1)]: Done 2445636 tasks      | elapsed:  4.3min\n",
      "[Parallel(n_jobs=-1)]: Done 2544282 tasks      | elapsed:  4.5min\n",
      "[Parallel(n_jobs=-1)]: Done 2601244 out of 2601244 | elapsed:  4.5min finished\n"
     ]
    }
   ],
   "source": [
    "#Stem word tokens\n",
    "alpha_stem_Pair_0_tokens = Parallel(n_jobs=-1, verbose=8)(\\\n",
    "                            delayed(preprocessing.nltkStem)(i) for i in df_all['alpha_Pair_0_tokens'].values)\n",
    "\n",
    "df_all['alpha_stem_Pair_0_tokens'] = list(zip(*alpha_stem_Pair_0_tokens))[0]\n",
    "df_all['n_alpha_stem_Pair_0_tokens'] = list(zip(*alpha_stem_Pair_0_tokens))[1]\n",
    "\n",
    "alpha_stem_Pair_1_tokens = Parallel(n_jobs=-1, verbose=8)(\\\n",
    "                            delayed(preprocessing.nltkStem)(i) for i in df_all['alpha_Pair_1_tokens'].values)\n",
    "\n",
    "df_all['alpha_stem_Pair_1_tokens'] = list(zip(*alpha_stem_Pair_1_tokens))[0]\n",
    "\n",
    "df_all['n_alpha_stem_Pair_1_tokens'] = list(zip(*alpha_stem_Pair_1_tokens))[1]\n",
    "\n",
    "alpha_stem_quote_tokens = []\n",
    "alpha_stem_quote_tokens = []"
   ]
  },
  {
   "cell_type": "code",
   "execution_count": 16,
   "metadata": {
    "scrolled": true
   },
   "outputs": [
    {
     "name": "stderr",
     "output_type": "stream",
     "text": [
      "[Parallel(n_jobs=-1)]: Done   2 tasks      | elapsed:   11.8s\n",
      "[Parallel(n_jobs=-1)]: Done  25 tasks      | elapsed:   17.6s\n",
      "[Parallel(n_jobs=-1)]: Done  65 tasks      | elapsed:   17.6s\n",
      "[Parallel(n_jobs=-1)]: Done 34554 tasks      | elapsed:   19.2s\n",
      "[Parallel(n_jobs=-1)]: Done 105211 tasks      | elapsed:   21.6s\n",
      "[Parallel(n_jobs=-1)]: Done 190588 tasks      | elapsed:   23.9s\n",
      "[Parallel(n_jobs=-1)]: Done 289212 tasks      | elapsed:   26.3s\n",
      "[Parallel(n_jobs=-1)]: Done 402556 tasks      | elapsed:   29.0s\n",
      "[Parallel(n_jobs=-1)]: Done 527676 tasks      | elapsed:   32.1s\n",
      "[Parallel(n_jobs=-1)]: Done 667516 tasks      | elapsed:   35.5s\n",
      "[Parallel(n_jobs=-1)]: Done 819132 tasks      | elapsed:   39.2s\n",
      "[Parallel(n_jobs=-1)]: Done 985468 tasks      | elapsed:  1.2min\n",
      "[Parallel(n_jobs=-1)]: Done 1078204 tasks      | elapsed:  1.2min\n",
      "[Parallel(n_jobs=-1)]: Done 1174620 tasks      | elapsed:  1.3min\n",
      "[Parallel(n_jobs=-1)]: Done 1276924 tasks      | elapsed:  1.3min\n",
      "[Parallel(n_jobs=-1)]: Done 1386588 tasks      | elapsed:  1.3min\n",
      "[Parallel(n_jobs=-1)]: Done 1502140 tasks      | elapsed:  1.4min\n",
      "[Parallel(n_jobs=-1)]: Done 1625052 tasks      | elapsed:  1.5min\n",
      "[Parallel(n_jobs=-1)]: Done 1753852 tasks      | elapsed:  1.5min\n",
      "[Parallel(n_jobs=-1)]: Done 1890012 tasks      | elapsed:  1.6min\n",
      "[Parallel(n_jobs=-1)]: Done 2032060 tasks      | elapsed:  1.6min\n",
      "[Parallel(n_jobs=-1)]: Done 2182508 tasks      | elapsed:  4.4min\n",
      "[Parallel(n_jobs=-1)]: Done 2346244 tasks      | elapsed:  4.5min\n",
      "[Parallel(n_jobs=-1)]: Done 2517740 tasks      | elapsed:  4.6min\n",
      "[Parallel(n_jobs=-1)]: Done 2601244 out of 2601244 | elapsed:  4.6min finished\n",
      "[Parallel(n_jobs=-1)]: Done   2 tasks      | elapsed:   18.3s\n",
      "[Parallel(n_jobs=-1)]: Done  25 tasks      | elapsed:   26.0s\n",
      "[Parallel(n_jobs=-1)]: Done  63 tasks      | elapsed:   26.0s\n",
      "[Parallel(n_jobs=-1)]: Done 16798 tasks      | elapsed:   27.1s\n",
      "[Parallel(n_jobs=-1)]: Done 53450 tasks      | elapsed:   28.5s\n",
      "[Parallel(n_jobs=-1)]: Done 96835 tasks      | elapsed:   30.3s\n",
      "[Parallel(n_jobs=-1)]: Done 146204 tasks      | elapsed:   31.9s\n",
      "[Parallel(n_jobs=-1)]: Done 203800 tasks      | elapsed:   33.7s\n",
      "[Parallel(n_jobs=-1)]: Done 267380 tasks      | elapsed:   35.8s\n",
      "[Parallel(n_jobs=-1)]: Done 338440 tasks      | elapsed:   38.2s\n",
      "[Parallel(n_jobs=-1)]: Done 415484 tasks      | elapsed:   40.8s\n",
      "[Parallel(n_jobs=-1)]: Done 500008 tasks      | elapsed:   43.5s\n",
      "[Parallel(n_jobs=-1)]: Done 590516 tasks      | elapsed:   46.3s\n",
      "[Parallel(n_jobs=-1)]: Done 688504 tasks      | elapsed:   49.5s\n",
      "[Parallel(n_jobs=-1)]: Done 792476 tasks      | elapsed:   52.8s\n",
      "[Parallel(n_jobs=-1)]: Done 903928 tasks      | elapsed:   56.4s\n",
      "[Parallel(n_jobs=-1)]: Done 1021364 tasks      | elapsed:   60.0s\n",
      "[Parallel(n_jobs=-1)]: Done 1146280 tasks      | elapsed:  1.1min\n",
      "[Parallel(n_jobs=-1)]: Done 1277180 tasks      | elapsed:  1.1min\n",
      "[Parallel(n_jobs=-1)]: Done 1360208 tasks      | elapsed:  5.3min\n",
      "[Parallel(n_jobs=-1)]: Done 1446450 tasks      | elapsed:  5.4min\n",
      "[Parallel(n_jobs=-1)]: Done 1581280 tasks      | elapsed:  5.5min\n",
      "[Parallel(n_jobs=-1)]: Done 1741218 tasks      | elapsed:  5.6min\n",
      "[Parallel(n_jobs=-1)]: Done 1908736 tasks      | elapsed:  5.6min\n",
      "[Parallel(n_jobs=-1)]: Done 2082318 tasks      | elapsed:  5.7min\n",
      "[Parallel(n_jobs=-1)]: Done 2263480 tasks      | elapsed:  5.8min\n",
      "[Parallel(n_jobs=-1)]: Done 2450706 tasks      | elapsed:  5.9min\n",
      "[Parallel(n_jobs=-1)]: Done 2601244 out of 2601244 | elapsed:  6.0min finished\n"
     ]
    }
   ],
   "source": [
    "#Lemmatize tokens, note I am applying this separately to stemming, to further vocabulary one could apply stemming\n",
    "#and lemmatization at the cost of comprehension\n",
    "\n",
    "alpha_lem_Pair_0_tokens = Parallel(n_jobs=-1, verbose=8)(\\\n",
    "                            delayed(preprocessing.nltkLem)(i) for i in df_all['alpha_Pair_0_tokens'].values)\n",
    "\n",
    "df_all['alpha_lem_Pair_0_tokens'] = list(zip(*alpha_lem_Pair_0_tokens))[0]\n",
    "df_all['n_alpha_lem_Pair_0_tokens'] = list(zip(*alpha_lem_Pair_0_tokens))[1]\n",
    "\n",
    "alpha_lem_Pair_1_tokens = Parallel(n_jobs=-1, verbose=8)(\\\n",
    "                            delayed(preprocessing.nltkLem)(i) for i in df_all['alpha_Pair_1_tokens'].values)\n",
    "\n",
    "df_all['alpha_lem_Pair_1_tokens'] = list(zip(*alpha_lem_Pair_1_tokens))[0]\n",
    "\n",
    "df_all['n_alpha_lem_Pair_1_tokens'] = list(zip(*alpha_lem_Pair_1_tokens))[1]\n",
    "\n",
    "alpha_lem_quote_tokens = []\n",
    "alpha_lem_quote_tokens = []"
   ]
  },
  {
   "cell_type": "code",
   "execution_count": null,
   "metadata": {},
   "outputs": [],
   "source": [
    "chunkPickleSave(df_all, \n",
    "                '../../datasets/%s_preprocess_pickle_stage_0_sample_%d' % (dataset, df_all.shape[0]), 10)"
   ]
  },
  {
   "cell_type": "code",
   "execution_count": 11,
   "metadata": {},
   "outputs": [],
   "source": [
    "def chunkPickleSave(data, save_path, chunks):\n",
    "    chunk_size = int(len(data)/chunks)\n",
    "    print (chunk_size)\n",
    "    for i in range(chunks):\n",
    "        \n",
    "        if i != chunks-1:\n",
    "            data[i*chunk_size:(i+1)*chunk_size].to_pickle(save_path + '_part_%d.pkl' % i)\n",
    "        \n",
    "        else:\n",
    "            data[i*chunk_size:].to_pickle(save_path + '_part_%d.pkl' % i)\n",
    "\n",
    "def chunkPickleLoad(load_path):\n",
    "    \n",
    "    df = pd.DataFrame()\n",
    "    \n",
    "    files = [i for i in os.listdir(load_path) if 'preprocess_pickle_stage_0_sample_2601244_part' in i]\n",
    "    \n",
    "    for idx, i in enumerate(files):\n",
    "        #if idx>2: break\n",
    "\n",
    "        if idx==0:\n",
    "            df = pd.read_pickle(load_path + '/' + i)\n",
    "            df = df[[pair_0, 'n_' + pair_0, pair_1, 'n_' + pair_1]]\n",
    "        else:\n",
    "            df_temp = pd.read_pickle(load_path + '/' + i)\n",
    "            df_temp = df_temp[[pair_0, 'n_' + pair_0, pair_1, 'n_' + pair_1]]\n",
    "            df = pd.concat([df, df_temp])\n",
    "        \n",
    "    return df   "
   ]
  },
  {
   "cell_type": "code",
   "execution_count": 12,
   "metadata": {},
   "outputs": [],
   "source": [
    "processing_type='stem'\n",
    "pair_0 = 'alpha_%s_Pair_0_tokens' % processing_type\n",
    "pair_1 = 'alpha_%s_Pair_1_tokens' % processing_type"
   ]
  },
  {
   "cell_type": "code",
   "execution_count": 13,
   "metadata": {},
   "outputs": [],
   "source": [
    "df_all = chunkPickleLoad(\"../../datasets/\")"
   ]
  },
  {
   "cell_type": "code",
   "execution_count": 14,
   "metadata": {},
   "outputs": [
    {
     "data": {
      "image/png": "[encoded data removed]",
      "text/plain": [
       "<matplotlib.figure.Figure at 0x2173588ad68>"
      ]
     },
     "metadata": {},
     "output_type": "display_data"
    }
   ],
   "source": [
    "sent_lengths = sum([list(df_all['n_' + pair_0].values), \\\n",
    "                    list(df_all['n_' + pair_1].values)], [])\n",
    "plt.figure(figsize=(20, 8))\n",
    "plt.hist(sent_lengths, log=True, bins=[i for i in range(70)])\n",
    "plt.xlabel('Sequence Length')\n",
    "plt.ylabel('Frequency of Sequence Length/1 bin')\n",
    "plt.savefig('SequenceFrequency.png')"
   ]
  },
  {
   "cell_type": "code",
   "execution_count": 15,
   "metadata": {},
   "outputs": [
    {
     "data": {
      "text/plain": [
       "array([ list(['the', 'paranoia', 'ha', 'alreadi', 'began', 'whi', 'do', 'they', 'think', 'shane', 'doesn', 't', 'wan', 'na', 'work', 'with', 'them', '?', 'becaus', 'he', 's', 'not', 'up', 'their', 'butt', '?', '<eos>']),\n",
       "       27,\n",
       "       list(['whitney', 'i', 'dont', 'think', 'shane', 'want', 'to', 'work', 'with', 'us', 'alex', 'i', 'think', 'shane', 'ha', 'made', 'a', 'deal', 'with', 'everyon', 'in', 'the', 'hous', 'whitney', 'i', 'do', 'too', '<eos>']),\n",
       "       28], dtype=object)"
      ]
     },
     "execution_count": 15,
     "metadata": {},
     "output_type": "execute_result"
    }
   ],
   "source": [
    "df_all.values[0]"
   ]
  },
  {
   "cell_type": "code",
   "execution_count": 16,
   "metadata": {},
   "outputs": [],
   "source": [
    "def filterSent(df, seq_min, seq_max):\n",
    "    #Filter for sequences of minimum and maximum length\n",
    "    df = df[(df['n_' + pair_0]>=seq_min) & (df_all['n_' + pair_1]>=seq_min)]\n",
    "\n",
    "    df = df[(df['n_' + pair_0]<=seq_max) & (df_all['n_' + pair_1]<=seq_max)]\n",
    "    \n",
    "    return df"
   ]
  },
  {
   "cell_type": "code",
   "execution_count": 17,
   "metadata": {},
   "outputs": [
    {
     "name": "stdout",
     "output_type": "stream",
     "text": [
      "4 20\n"
     ]
    },
    {
     "name": "stderr",
     "output_type": "stream",
     "text": [
      "c:\\users\\euix\\anaconda3\\envs\\tensorflow-gpu\\lib\\site-packages\\ipykernel_launcher.py:5: UserWarning: Boolean Series key will be reindexed to match DataFrame index.\n",
      "  \"\"\"\n"
     ]
    }
   ],
   "source": [
    "#Filter for sequences of minimum and maximum length\n",
    "seq_min = 4\n",
    "seq_max = 20\n",
    "\n",
    "print (seq_min, seq_max)\n",
    "\n",
    "df_all = filterSent(df_all, seq_min, seq_max)"
   ]
  },
  {
   "cell_type": "code",
   "execution_count": 18,
   "metadata": {},
   "outputs": [
    {
     "name": "stdout",
     "output_type": "stream",
     "text": [
      "Rows retained 1537897\n"
     ]
    }
   ],
   "source": [
    "print ('Rows retained', df_all.shape[0])"
   ]
  },
  {
   "cell_type": "code",
   "execution_count": 19,
   "metadata": {},
   "outputs": [],
   "source": [
    "#Count up and get a frequency count of all tokens\n",
    "flat_list_pair_0 = [item for sublist in df_all[pair_0].values for item in sublist]\n",
    "\n",
    "flat_list_pair_1 = [item for sublist in df_all[pair_1].values for item in sublist]\n",
    "\n",
    "flat_list = flat_list_pair_0 + flat_list_pair_1\n",
    "\n",
    "fdist_quote = nltk.FreqDist(flat_list)\n",
    "\n",
    "words = fdist_quote.keys()\n",
    "\n",
    "word_counts = fdist_quote.values()\n",
    "\n",
    "df_all_word_counts = pd.DataFrame(list(zip(words, word_counts)), columns=['word', 'word_counts'])"
   ]
  },
  {
   "cell_type": "code",
   "execution_count": 20,
   "metadata": {},
   "outputs": [],
   "source": [
    "df_all_word_counts.sort_values(by=['word_counts'], ascending=True, inplace=True)"
   ]
  },
  {
   "cell_type": "code",
   "execution_count": 21,
   "metadata": {},
   "outputs": [
    {
     "data": {
      "text/html": [
       "<div>\n",
       "<style>\n",
       "    .dataframe thead tr:only-child th {\n",
       "        text-align: right;\n",
       "    }\n",
       "\n",
       "    .dataframe thead th {\n",
       "        text-align: left;\n",
       "    }\n",
       "\n",
       "    .dataframe tbody tr th {\n",
       "        vertical-align: top;\n",
       "    }\n",
       "</style>\n",
       "<table border=\"1\" class=\"dataframe\">\n",
       "  <thead>\n",
       "    <tr style=\"text-align: right;\">\n",
       "      <th></th>\n",
       "      <th>word</th>\n",
       "    </tr>\n",
       "    <tr>\n",
       "      <th>word_counts</th>\n",
       "      <th></th>\n",
       "    </tr>\n",
       "  </thead>\n",
       "  <tbody>\n",
       "    <tr>\n",
       "      <th>1</th>\n",
       "      <td>123968</td>\n",
       "    </tr>\n",
       "    <tr>\n",
       "      <th>2</th>\n",
       "      <td>27550</td>\n",
       "    </tr>\n",
       "    <tr>\n",
       "      <th>3</th>\n",
       "      <td>11543</td>\n",
       "    </tr>\n",
       "    <tr>\n",
       "      <th>4</th>\n",
       "      <td>6940</td>\n",
       "    </tr>\n",
       "    <tr>\n",
       "      <th>5</th>\n",
       "      <td>4628</td>\n",
       "    </tr>\n",
       "  </tbody>\n",
       "</table>\n",
       "</div>"
      ],
      "text/plain": [
       "               word\n",
       "word_counts        \n",
       "1            123968\n",
       "2             27550\n",
       "3             11543\n",
       "4              6940\n",
       "5              4628"
      ]
     },
     "execution_count": 21,
     "metadata": {},
     "output_type": "execute_result"
    }
   ],
   "source": [
    "df_all_word_counts.groupby('word_counts').count().head()"
   ]
  },
  {
   "cell_type": "code",
   "execution_count": 22,
   "metadata": {},
   "outputs": [],
   "source": [
    "df_all_word_counts = df_all_word_counts[df_all_word_counts['word'].isin(['<eos>', '?']) == False]"
   ]
  },
  {
   "cell_type": "code",
   "execution_count": 23,
   "metadata": {},
   "outputs": [],
   "source": [
    "df_all_word_counts['word_counts_norm'] = df_all_word_counts['word_counts']/df_all_word_counts['word_counts'].sum()"
   ]
  },
  {
   "cell_type": "code",
   "execution_count": 24,
   "metadata": {},
   "outputs": [],
   "source": [
    "word_sets = [set(df_all_word_counts[df_all_word_counts['word_counts']==i]['word'].values) for i in range(1, 31, 1)]"
   ]
  },
  {
   "cell_type": "code",
   "execution_count": 25,
   "metadata": {},
   "outputs": [
    {
     "data": {
      "image/png": "[encoded data removed]",
      "text/plain": [
       "<matplotlib.figure.Figure at 0x2143fb6a9b0>"
      ]
     },
     "metadata": {},
     "output_type": "display_data"
    }
   ],
   "source": [
    "plt.figure(figsize=(20, 8))\n",
    "plt.hist(df_all_word_counts['word_counts'].values, bins=[i for i in range(1, 10000, 25)], log=True)\n",
    "plt.xlabel('Word Occurrences')\n",
    "plt.ylabel('Frequency of Occurence/25 bins')\n",
    "plt.savefig('WordFrequency.png')"
   ]
  },
  {
   "cell_type": "code",
   "execution_count": 26,
   "metadata": {},
   "outputs": [],
   "source": [
    "#Check for occurrence of rare words in each sentence and tag sentences where rare words occur"
   ]
  },
  {
   "cell_type": "code",
   "execution_count": 27,
   "metadata": {},
   "outputs": [],
   "source": [
    "for i in range(0, 20, 1):\n",
    "\n",
    "    func_length = lambda x: preprocessing.checkWordOccurrenceLength(x, i, word_sets[i])\n",
    "\n",
    "    df_all['n_' + pair_0 + '_%d_word' % (i+1)] = df_all[pair_0].apply(func_length)\n",
    "\n",
    "    df_all['n_' + pair_1 + '_%d_word' % (i+1)] = df_all[pair_1].apply(func_length)"
   ]
  },
  {
   "cell_type": "code",
   "execution_count": 28,
   "metadata": {},
   "outputs": [],
   "source": [
    "#Remove sequence pairs contain rarely occuring words,\n",
    "rare_word_lower_bound = 10\n",
    "for i in range(1, rare_word_lower_bound, 1):\n",
    "    df_all = df_all[\n",
    "\t\t(df_all['n_' + pair_0 + '_%d_word' % i]==0) &\n",
    "\t\t(df_all['n_' + pair_1 + '_%d_word' % i]==0)] "
   ]
  },
  {
   "cell_type": "code",
   "execution_count": 29,
   "metadata": {},
   "outputs": [],
   "source": [
    "Pair_0_words = set.union(*[set(i) for i in df_all[pair_0].values])\n",
    "\n",
    "Pair_1_words = set.union(*[set(i) for i in df_all[pair_1].values])"
   ]
  },
  {
   "cell_type": "code",
   "execution_count": 30,
   "metadata": {},
   "outputs": [],
   "source": [
    "vocab_set = Pair_0_words.union(Pair_1_words)"
   ]
  },
  {
   "cell_type": "code",
   "execution_count": 31,
   "metadata": {},
   "outputs": [
    {
     "data": {
      "text/plain": [
       "31969"
      ]
     },
     "execution_count": 31,
     "metadata": {},
     "output_type": "execute_result"
    }
   ],
   "source": [
    "len(vocab_set)"
   ]
  },
  {
   "cell_type": "code",
   "execution_count": 32,
   "metadata": {},
   "outputs": [],
   "source": [
    "#We can continue to reduce the vocabulary further by assigning <UNK> tokens to a larger amount of rare tokens but\n",
    "#preserve the sequences that they arise from as opposed to filtering them completely.\n",
    "vocab_set_sub = list(set(vocab_set) - set(df_all_word_counts[df_all_word_counts['word_counts']<20]['word'].values))\n",
    "#vocab_set_sub = list(set(vocab_set))"
   ]
  },
  {
   "cell_type": "code",
   "execution_count": 33,
   "metadata": {},
   "outputs": [
    {
     "data": {
      "text/plain": [
       "22562"
      ]
     },
     "execution_count": 33,
     "metadata": {},
     "output_type": "execute_result"
    }
   ],
   "source": [
    "len(vocab_set_sub)"
   ]
  },
  {
   "cell_type": "code",
   "execution_count": 35,
   "metadata": {},
   "outputs": [],
   "source": [
    "vocab_dict = [createDict(word, word_idx) for word_idx, word in enumerate(vocab_set_sub)]"
   ]
  },
  {
   "cell_type": "code",
   "execution_count": 36,
   "metadata": {},
   "outputs": [],
   "source": [
    "vocab_dict = {k: v for d in vocab_dict for k, v in d.items()}"
   ]
  },
  {
   "cell_type": "code",
   "execution_count": 45,
   "metadata": {},
   "outputs": [],
   "source": [
    "vocab_dict['<PAD>'] = 0\n",
    "vocab_dict['<EOS>'] = 1\n",
    "vocab_dict['<UNK>'] = 2\n",
    "vocab_dict['<pad>'] = 0\n",
    "vocab_dict['<eos>'] = 1\n",
    "vocab_dict['<unk>'] = 2"
   ]
  },
  {
   "cell_type": "code",
   "execution_count": 46,
   "metadata": {},
   "outputs": [
    {
     "name": "stdout",
     "output_type": "stream",
     "text": [
      "size of vocab:22567, size of dataset:1276985\n"
     ]
    }
   ],
   "source": [
    "print ('size of vocab:%d, size of dataset:%d' % (len(vocab_dict), df_all.shape[0]))"
   ]
  },
  {
   "cell_type": "code",
   "execution_count": 47,
   "metadata": {},
   "outputs": [],
   "source": [
    "df_final = pd.DataFrame()"
   ]
  },
  {
   "cell_type": "code",
   "execution_count": 48,
   "metadata": {},
   "outputs": [],
   "source": [
    "def createDict(word, count):\n",
    "    if word!='<EOS>' or word!='<eos>':\n",
    "        if word not in vocab_set_sub: return {word : 2}\n",
    "        else :return {word : count + 3} \n",
    "    else:\n",
    "        return {word:1}"
   ]
  },
  {
   "cell_type": "code",
   "execution_count": 49,
   "metadata": {},
   "outputs": [],
   "source": [
    "encode_sent = lambda x: data_formatting.encodeSent(x, vocab_dict)"
   ]
  },
  {
   "cell_type": "code",
   "execution_count": 51,
   "metadata": {},
   "outputs": [],
   "source": [
    "df_final['alpha_Pair_1_encoding'] =  df_all[pair_0].apply(encode_sent)\n",
    "df_final['alpha_Pair_0_encoding'] = df_all[pair_1].apply(encode_sent)\n",
    "\n",
    "df_final['Index'] = df_all.index.values"
   ]
  },
  {
   "cell_type": "code",
   "execution_count": null,
   "metadata": {},
   "outputs": [],
   "source": [
    "df_all = []"
   ]
  },
  {
   "cell_type": "code",
   "execution_count": 5,
   "metadata": {},
   "outputs": [],
   "source": [
    "dataset = 'twitter'"
   ]
  },
  {
   "cell_type": "code",
   "execution_count": 55,
   "metadata": {},
   "outputs": [],
   "source": [
    "df_final.to_pickle(\\\n",
    "    '../processed_data/processed_data_v02_%s_py35_seq_length_%d_%d_sample_%d.pkl' % (dataset, seq_min, seq_max, df_all.shape[0]))\n",
    "\n",
    "pickle.dump(vocab_dict, \\\n",
    "    open('../processed_data/word_dict_v02_%s_py35_seq_length_%d_%d_sample_%d.pkl' % (dataset, seq_min, seq_max, df_all.shape[0]) , 'wb'))"
   ]
  },
  {
   "cell_type": "code",
   "execution_count": 2,
   "metadata": {},
   "outputs": [],
   "source": [
    "df_final = pd.read_pickle('../processed_data/processed_data_v02_twitter_py35_seq_length_4_20_sample_1276985.pkl')"
   ]
  },
  {
   "cell_type": "code",
   "execution_count": 20,
   "metadata": {
    "scrolled": true
   },
   "outputs": [
    {
     "name": "stderr",
     "output_type": "stream",
     "text": [
      "[Parallel(n_jobs=-1)]: Done   2 tasks      | elapsed:    8.9s\n",
      "[Parallel(n_jobs=-1)]: Done  25 tasks      | elapsed:   16.5s\n",
      "[Parallel(n_jobs=-1)]: Done  58 tasks      | elapsed:   16.5s\n",
      "[Parallel(n_jobs=-1)]: Done 30302 tasks      | elapsed:   17.3s\n",
      "[Parallel(n_jobs=-1)]: Done 145942 tasks      | elapsed:   18.7s\n",
      "[Parallel(n_jobs=-1)]: Done 285182 tasks      | elapsed:   20.3s\n",
      "[Parallel(n_jobs=-1)]: Done 405650 tasks      | elapsed:   25.3s\n",
      "[Parallel(n_jobs=-1)]: Done 588294 tasks      | elapsed:   27.5s\n",
      "[Parallel(n_jobs=-1)]: Done 755520 tasks      | elapsed:   31.1s\n",
      "[Parallel(n_jobs=-1)]: Done 975650 tasks      | elapsed:   33.5s\n",
      "[Parallel(n_jobs=-1)]: Done 1173230 tasks      | elapsed:   37.8s\n",
      "[Parallel(n_jobs=-1)]: Done 1276985 out of 1276985 | elapsed:   38.7s finished\n",
      "[Parallel(n_jobs=-1)]: Done   2 tasks      | elapsed:    2.3s\n",
      "[Parallel(n_jobs=-1)]: Done  25 tasks      | elapsed:    9.3s\n",
      "[Parallel(n_jobs=-1)]: Done  59 tasks      | elapsed:    9.3s\n",
      "[Parallel(n_jobs=-1)]: Done 42437 tasks      | elapsed:   10.2s\n",
      "[Parallel(n_jobs=-1)]: Done 200609 tasks      | elapsed:   12.3s\n",
      "[Parallel(n_jobs=-1)]: Done 391061 tasks      | elapsed:   14.8s\n",
      "[Parallel(n_jobs=-1)]: Done 529865 tasks      | elapsed:   24.9s\n",
      "[Parallel(n_jobs=-1)]: Done 654143 tasks      | elapsed:   26.4s\n",
      "[Parallel(n_jobs=-1)]: Done 791333 tasks      | elapsed:   28.0s\n",
      "[Parallel(n_jobs=-1)]: Done 931751 tasks      | elapsed:   33.5s\n",
      "[Parallel(n_jobs=-1)]: Done 1089219 tasks      | elapsed:   35.6s\n",
      "[Parallel(n_jobs=-1)]: Done 1276985 out of 1276985 | elapsed:   37.7s finished\n"
     ]
    }
   ],
   "source": [
    "n_grams_pair_1 = [Parallel(n_jobs=-1, verbose=8)(\\\n",
    "                delayed(preprocessing.nltkNGram)(text, n_gram) for text in df_final['alpha_Pair_1_encoding'].values) for\n",
    "          n_gram in range(1, 3, 1)]"
   ]
  },
  {
   "cell_type": "code",
   "execution_count": 21,
   "metadata": {},
   "outputs": [],
   "source": [
    "n_grams_pair_1_test = [[i for j in n_grams for i in j] for n_grams in n_grams_pair_1]"
   ]
  },
  {
   "cell_type": "code",
   "execution_count": 18,
   "metadata": {},
   "outputs": [],
   "source": [
    "dataset = 'twitter'"
   ]
  },
  {
   "cell_type": "code",
   "execution_count": 24,
   "metadata": {},
   "outputs": [],
   "source": [
    "pickle.dump(n_grams_pair_1_test, open('../processed_data/processed_ngrams_pair_1_v02_%s_py35_seq_length_%d_%d_sample_%d.pkl' \n",
    "                       % (dataset, 4, 20, df_final.shape[0]) , 'wb') )\n",
    "\n",
    "#n_grams_pair_1 = []"
   ]
  },
  {
   "cell_type": "code",
   "execution_count": 8,
   "metadata": {
    "scrolled": true
   },
   "outputs": [
    {
     "name": "stderr",
     "output_type": "stream",
     "text": [
      "[Parallel(n_jobs=-1)]: Done   2 tasks      | elapsed:    9.1s\n",
      "[Parallel(n_jobs=-1)]: Done  25 tasks      | elapsed:   16.1s\n",
      "[Parallel(n_jobs=-1)]: Done  58 tasks      | elapsed:   16.1s\n",
      "[Parallel(n_jobs=-1)]: Done 40192 tasks      | elapsed:   16.9s\n",
      "[Parallel(n_jobs=-1)]: Done 204734 tasks      | elapsed:   19.1s\n",
      "[Parallel(n_jobs=-1)]: Done 402856 tasks      | elapsed:   21.2s\n",
      "[Parallel(n_jobs=-1)]: Done 627842 tasks      | elapsed:   24.4s\n",
      "[Parallel(n_jobs=-1)]: Done 886408 tasks      | elapsed:   27.9s\n",
      "[Parallel(n_jobs=-1)]: Done 1171838 tasks      | elapsed:   32.0s\n",
      "[Parallel(n_jobs=-1)]: Done 1276985 out of 1276985 | elapsed:   32.8s finished\n",
      "[Parallel(n_jobs=-1)]: Done   2 tasks      | elapsed:    2.3s\n",
      "[Parallel(n_jobs=-1)]: Done  25 tasks      | elapsed:    8.9s\n",
      "[Parallel(n_jobs=-1)]: Done  59 tasks      | elapsed:    8.9s\n",
      "[Parallel(n_jobs=-1)]: Done 45069 tasks      | elapsed:    9.8s\n",
      "[Parallel(n_jobs=-1)]: Done 217255 tasks      | elapsed:   11.6s\n",
      "[Parallel(n_jobs=-1)]: Done 424581 tasks      | elapsed:   15.0s\n",
      "[Parallel(n_jobs=-1)]: Done 660019 tasks      | elapsed:   18.8s\n",
      "[Parallel(n_jobs=-1)]: Done 930597 tasks      | elapsed:   21.8s\n",
      "[Parallel(n_jobs=-1)]: Done 1183605 tasks      | elapsed:   25.8s\n",
      "[Parallel(n_jobs=-1)]: Done 1276985 out of 1276985 | elapsed:   26.7s finished\n",
      "[Parallel(n_jobs=-1)]: Done   2 tasks      | elapsed:    2.4s\n",
      "[Parallel(n_jobs=-1)]: Done  25 tasks      | elapsed:    9.1s\n",
      "[Parallel(n_jobs=-1)]: Done  59 tasks      | elapsed:    9.1s\n",
      "[Parallel(n_jobs=-1)]: Done 40509 tasks      | elapsed:    9.9s\n",
      "[Parallel(n_jobs=-1)]: Done 194075 tasks      | elapsed:   11.5s\n",
      "[Parallel(n_jobs=-1)]: Done 378981 tasks      | elapsed:   13.5s\n",
      "[Parallel(n_jobs=-1)]: Done 530980 tasks      | elapsed:   16.9s\n",
      "[Parallel(n_jobs=-1)]: Done 651639 tasks      | elapsed:   18.2s\n",
      "[Parallel(n_jobs=-1)]: Done 784834 tasks      | elapsed:   19.7s\n",
      "[Parallel(n_jobs=-1)]: Done 930563 tasks      | elapsed:   23.3s\n",
      "[Parallel(n_jobs=-1)]: Done 1095569 tasks      | elapsed:   25.4s\n",
      "[Parallel(n_jobs=-1)]: Done 1276985 out of 1276985 | elapsed:   27.3s finished\n",
      "[Parallel(n_jobs=-1)]: Done   2 tasks      | elapsed:    2.5s\n",
      "[Parallel(n_jobs=-1)]: Done  25 tasks      | elapsed:    9.2s\n",
      "[Parallel(n_jobs=-1)]: Done  59 tasks      | elapsed:    9.2s\n",
      "[Parallel(n_jobs=-1)]: Done 44917 tasks      | elapsed:   10.0s\n",
      "[Parallel(n_jobs=-1)]: Done 213085 tasks      | elapsed:   11.9s\n",
      "[Parallel(n_jobs=-1)]: Done 415573 tasks      | elapsed:   14.2s\n",
      "[Parallel(n_jobs=-1)]: Done 607765 tasks      | elapsed:   18.7s\n",
      "[Parallel(n_jobs=-1)]: Done 739897 tasks      | elapsed:   20.2s\n",
      "[Parallel(n_jobs=-1)]: Done 885757 tasks      | elapsed:   21.9s\n",
      "[Parallel(n_jobs=-1)]: Done 1048777 tasks      | elapsed:   23.8s\n",
      "[Parallel(n_jobs=-1)]: Done 1189489 tasks      | elapsed:   28.5s\n",
      "[Parallel(n_jobs=-1)]: Done 1276985 out of 1276985 | elapsed:   29.5s finished\n",
      "[Parallel(n_jobs=-1)]: Done   2 tasks      | elapsed:    2.3s\n",
      "[Parallel(n_jobs=-1)]: Done  25 tasks      | elapsed:    8.9s\n",
      "[Parallel(n_jobs=-1)]: Done  59 tasks      | elapsed:    8.9s\n",
      "[Parallel(n_jobs=-1)]: Done 39101 tasks      | elapsed:    9.8s\n",
      "[Parallel(n_jobs=-1)]: Done 187963 tasks      | elapsed:   11.7s\n",
      "[Parallel(n_jobs=-1)]: Done 367205 tasks      | elapsed:   14.1s\n",
      "[Parallel(n_jobs=-1)]: Done 570751 tasks      | elapsed:   16.7s\n",
      "[Parallel(n_jobs=-1)]: Done 734803 tasks      | elapsed:   22.8s\n",
      "[Parallel(n_jobs=-1)]: Done 863918 tasks      | elapsed:   24.5s\n",
      "[Parallel(n_jobs=-1)]: Done 1008223 tasks      | elapsed:   26.4s\n",
      "[Parallel(n_jobs=-1)]: Done 1164680 tasks      | elapsed:   28.6s\n",
      "[Parallel(n_jobs=-1)]: Done 1276985 out of 1276985 | elapsed:   29.8s finished\n",
      "[Parallel(n_jobs=-1)]: Done   2 tasks      | elapsed:    2.3s\n",
      "[Parallel(n_jobs=-1)]: Done  25 tasks      | elapsed:    9.2s\n",
      "[Parallel(n_jobs=-1)]: Done  59 tasks      | elapsed:    9.2s\n",
      "[Parallel(n_jobs=-1)]: Done 45037 tasks      | elapsed:   10.1s\n",
      "[Parallel(n_jobs=-1)]: Done 211343 tasks      | elapsed:   12.0s\n",
      "[Parallel(n_jobs=-1)]: Done 411589 tasks      | elapsed:   14.4s\n",
      "[Parallel(n_jobs=-1)]: Done 638987 tasks      | elapsed:   17.9s\n",
      "[Parallel(n_jobs=-1)]: Done 839233 tasks      | elapsed:   23.3s\n",
      "[Parallel(n_jobs=-1)]: Done 983478 tasks      | elapsed:   25.1s\n",
      "[Parallel(n_jobs=-1)]: Done 1144693 tasks      | elapsed:   27.3s\n",
      "[Parallel(n_jobs=-1)]: Done 1276985 out of 1276985 | elapsed:   29.1s finished\n",
      "[Parallel(n_jobs=-1)]: Done   2 tasks      | elapsed:    2.3s\n",
      "[Parallel(n_jobs=-1)]: Done  25 tasks      | elapsed:    8.9s\n",
      "[Parallel(n_jobs=-1)]: Done  59 tasks      | elapsed:    8.9s\n",
      "[Parallel(n_jobs=-1)]: Done 43421 tasks      | elapsed:    9.7s\n",
      "[Parallel(n_jobs=-1)]: Done 205611 tasks      | elapsed:   11.5s\n",
      "[Parallel(n_jobs=-1)]: Done 400901 tasks      | elapsed:   13.8s\n",
      "[Parallel(n_jobs=-1)]: Done 622671 tasks      | elapsed:   16.7s\n",
      "[Parallel(n_jobs=-1)]: Done 877541 tasks      | elapsed:   23.6s\n",
      "[Parallel(n_jobs=-1)]: Done 1019871 tasks      | elapsed:   25.4s\n",
      "[Parallel(n_jobs=-1)]: Done 1177096 tasks      | elapsed:   27.8s\n",
      "[Parallel(n_jobs=-1)]: Done 1276985 out of 1276985 | elapsed:   29.2s finished\n",
      "[Parallel(n_jobs=-1)]: Done   2 tasks      | elapsed:    3.7s\n",
      "[Parallel(n_jobs=-1)]: Done  25 tasks      | elapsed:   10.2s\n",
      "[Parallel(n_jobs=-1)]: Done  59 tasks      | elapsed:   10.2s\n",
      "[Parallel(n_jobs=-1)]: Done 38917 tasks      | elapsed:   10.9s\n",
      "[Parallel(n_jobs=-1)]: Done 180233 tasks      | elapsed:   12.6s\n",
      "[Parallel(n_jobs=-1)]: Done 350389 tasks      | elapsed:   14.6s\n",
      "[Parallel(n_jobs=-1)]: Done 543617 tasks      | elapsed:   17.8s\n",
      "[Parallel(n_jobs=-1)]: Done 765685 tasks      | elapsed:   20.7s\n",
      "[Parallel(n_jobs=-1)]: Done 997847 tasks      | elapsed:   27.4s\n",
      "[Parallel(n_jobs=-1)]: Done 1134837 tasks      | elapsed:   29.2s\n",
      "[Parallel(n_jobs=-1)]: Done 1276985 out of 1276985 | elapsed:   31.1s finished\n"
     ]
    }
   ],
   "source": [
    "n_grams_pair_0 = [Parallel(n_jobs=-1, verbose=8)(\\\n",
    "                delayed(preprocessing.nltkNGram)(text, n_gram) for text in df_final['alpha_Pair_0_encoding'].values) for\n",
    "          n_gram in range(1, 9, 1)]"
   ]
  },
  {
   "cell_type": "code",
   "execution_count": 9,
   "metadata": {},
   "outputs": [],
   "source": [
    "pickle.dump(n_grams_pair_0, open('../processed_data/processed_ngrams_pair_0_v02_%s_py35_seq_length_%d_%d_sample_%d.pkl' % \\\n",
    "                        (dataset, 4, 20, df_final.shape[0]) , 'wb') )"
   ]
  },
  {
   "cell_type": "code",
   "execution_count": 10,
   "metadata": {},
   "outputs": [],
   "source": [
    "n_grams_pair_0 = []"
   ]
  },
  {
   "cell_type": "code",
   "execution_count": null,
   "metadata": {},
   "outputs": [],
   "source": [
    "#  % (dataset, seq_min, seq_max, df_all.shape[0]) , 'wb') )"
   ]
  }
 ],
 "metadata": {
  "kernelspec": {
   "display_name": "Python 3",
   "language": "python",
   "name": "python3"
  },
  "language_info": {
   "codemirror_mode": {
    "name": "ipython",
    "version": 3
   },
   "file_extension": ".py",
   "mimetype": "text/x-python",
   "name": "python",
   "nbconvert_exporter": "python",
   "pygments_lexer": "ipython3",
   "version": "3.5.4"
  }
 },
 "nbformat": 4,
 "nbformat_minor": 2
}
