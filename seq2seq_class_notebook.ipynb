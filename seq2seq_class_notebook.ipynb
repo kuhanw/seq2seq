{
 "cells": [
  {
   "cell_type": "code",
   "execution_count": 1,
   "metadata": {},
   "outputs": [],
   "source": [
    "import matplotlib.pyplot as plt\n",
    "import seaborn as sns\n",
    "\n",
    "import tensorflow as tf\n",
    "import pandas as pd\n",
    "import numpy as np \n",
    "\n",
    "import create_model\n",
    "import pickle\n",
    "import time \n",
    "\n",
    "import random\n",
    "import data_formatting\n",
    "\n",
    "\n",
    "def decodeSent(sent):\n",
    "    return [inv_map[i] for i in sent if i not in [0, -1]]\n",
    "\n",
    "def validate(train):\n",
    "    \n",
    "    if train == True:\n",
    "        \n",
    "        model = train_model\n",
    "        mode = 'TRAIN'\n",
    "        \n",
    "    else:\n",
    "        mode = 'DEV'\n",
    "        model = dev_model\n",
    "\n",
    "    encoder, decoder, predicted = session.run([model.encoder_inputs, model.decoder_targets, model.decoder_pred_train])            \n",
    "\n",
    "    print ('Current mode:%s' % mode)\n",
    "    for i, (e_in, dt_targ, dt_pred) in enumerate(zip( encoder, decoder, predicted)):\n",
    "\n",
    "        print('  sample {}:'.format(i + 1))\n",
    "        #print('    enc input           > {}'.format(e_in))\n",
    "        print('    enc input           > {}'.format(decodeSent(e_in)))\n",
    "\n",
    "        #print('    dec input           > {}'.format(dt_targ))\n",
    "        print('    dec input           > {}'.format(decodeSent(dt_targ)))\n",
    "\n",
    "        #print('    dec train predicted > {}'.format(dt_pred))\n",
    "        print('    dec train predicted > {}'.format(decodeSent(dt_pred)))\n",
    "\n",
    "        if i >= 0: break"
   ]
  },
  {
   "cell_type": "code",
   "execution_count": 2,
   "metadata": {},
   "outputs": [],
   "source": [
    "dataset = 'twitter'\n",
    "\n",
    "#vocab_dict = pickle.load(open('../processed_data/word_dict_v02_twitter_py35_seq_length_4_15_sample_134241_full.pkl', 'rb'))\n",
    "#df_all = pd.read_pickle('../processed_data/processed_data_v02_twitter_py35_seq_length_4_15_sample_134241_full.pkl')\n",
    "\n",
    "#vocab_dict = pickle.load(open('../processed_data/word_dict_v02_twitter_py35_seq_length_3_19_sample_21946_lem.pkl', 'rb'))\n",
    "#df_all = pd.read_pickle('../processed_data/processed_data_v02_twitter_py35_seq_length_3_19_sample_21946_lem.pkl')\n",
    "\n",
    "vocab_dict = pickle.load(open('../processed_data/word_dict_v02_twitter_py35_seq_length_3_25_sample_1901567_full.pkl', 'rb'))\n",
    "df_all = pd.read_pickle('../processed_data/processed_data_v02_twitter_py35_seq_length_3_25_sample_1901567_full.pkl')"
   ]
  },
  {
   "cell_type": "code",
   "execution_count": 4,
   "metadata": {},
   "outputs": [
    {
     "data": {
      "text/plain": [
       "dtype('int32')"
      ]
     },
     "execution_count": 4,
     "metadata": {},
     "output_type": "execute_result"
    }
   ],
   "source": [
    "np.asarray(df_all['alpha_Pair_1_encoding'].values[0][0], dtype=np.int32).dtype"
   ]
  },
  {
   "cell_type": "code",
   "execution_count": 5,
   "metadata": {},
   "outputs": [],
   "source": [
    "df_all_train = df_all.sample(frac=0.97, random_state=1)\n",
    "\n",
    "df_all_dev = df_all[df_all['Index'].isin(df_all_train['Index'].values) == False]\n",
    "\n",
    "df_all_test = df_all_dev.sample(frac=0.10, random_state=1)\n",
    "\n",
    "df_all_dev = df_all_dev[df_all_dev['Index'].isin(df_all_test['Index'].values) == False]"
   ]
  },
  {
   "cell_type": "code",
   "execution_count": 6,
   "metadata": {},
   "outputs": [
    {
     "name": "stdout",
     "output_type": "stream",
     "text": [
      "1901567 1844520 51342 5705 57740\n"
     ]
    }
   ],
   "source": [
    "print (df_all.shape[0], df_all_train.shape[0],  df_all_dev.shape[0], df_all_test.shape[0], len(vocab_dict))"
   ]
  },
  {
   "cell_type": "code",
   "execution_count": 7,
   "metadata": {},
   "outputs": [],
   "source": [
    "train_data = data_formatting.prepare_train_batch(df_all_train['alpha_Pair_0_encoding'].values, \n",
    "                                                    df_all_train['alpha_Pair_1_encoding'].values)\n",
    "\n",
    "dev_data = data_formatting.prepare_train_batch(df_all_dev['alpha_Pair_0_encoding'].values, \n",
    "                                                    df_all_dev['alpha_Pair_1_encoding'].values)\n",
    "\n",
    "test_data = data_formatting.prepare_train_batch(df_all_test['alpha_Pair_0_encoding'].values, \n",
    "                                                    df_all_test['alpha_Pair_1_encoding'].values)"
   ]
  },
  {
   "cell_type": "code",
   "execution_count": 9,
   "metadata": {},
   "outputs": [],
   "source": [
    "inv_map = {v: k for k, v in vocab_dict.items()}\n",
    "inv_map[-1] = 'NULL'"
   ]
  },
  {
   "cell_type": "code",
   "execution_count": 10,
   "metadata": {},
   "outputs": [],
   "source": [
    "train_model_params = {'n_cells':256, 'num_layers':2, 'embedding_size':1024, \n",
    "          'vocab_size':len(vocab_dict) + 1, 'minibatch_size':32, 'n_threads':128,\n",
    "          'beam_width':10, \n",
    "          'encoder_input_keep':1, 'decoder_input_keep':1,\n",
    "          'encoder_output_keep':1, 'decoder_output_keep':1,\n",
    "         }"
   ]
  },
  {
   "cell_type": "code",
   "execution_count": 11,
   "metadata": {},
   "outputs": [],
   "source": [
    "dev_model_params = {'n_cells':256, 'num_layers':2, 'embedding_size':1024, \n",
    "          'vocab_size':len(vocab_dict) + 1, 'minibatch_size':32, 'n_threads':128,\n",
    "          'beam_width':10, \n",
    "          'encoder_input_keep':1, 'decoder_input_keep':1,\n",
    "          'encoder_output_keep':1, 'decoder_output_keep':1,\n",
    "         }"
   ]
  },
  {
   "cell_type": "code",
   "execution_count": 12,
   "metadata": {},
   "outputs": [],
   "source": [
    "training_params = { 'vocab_lower':3, 'vocab_upper':train_model_params['vocab_size']-1, \n",
    "                    'n_epochs':5000000}"
   ]
  },
  {
   "cell_type": "code",
   "execution_count": 18,
   "metadata": {},
   "outputs": [],
   "source": [
    "tf.reset_default_graph()"
   ]
  },
  {
   "cell_type": "code",
   "execution_count": 19,
   "metadata": {},
   "outputs": [],
   "source": [
    "with tf.variable_scope('training_model'):\n",
    "    \n",
    "    train_model = create_model.Model(train_model_params, 'train', train_data)\n",
    "\n",
    "with tf.variable_scope('training_model', reuse=True):\n",
    "\n",
    "    dev_model = create_model.Model(dev_model_params, 'train', dev_data)    "
   ]
  },
  {
   "cell_type": "code",
   "execution_count": null,
   "metadata": {},
   "outputs": [],
   "source": [
    "global_step = tf.Variable(0, trainable=False)\n",
    "\n",
    "starter_learning_rate = tf.placeholder(tf.float32, shape=(), name='starter_learning_rate')\n",
    "\n",
    "learning_rate = tf.train.exponential_decay(starter_learning_rate, global_step, \\\n",
    "                                   10000, 0.98, staircase=False)\n",
    "\n",
    "optimizer = tf.train.AdamOptimizer(learning_rate=learning_rate)\n",
    "\n",
    "train_op = optimizer.minimize(train_model.loss, global_step=global_step)"
   ]
  },
  {
   "cell_type": "code",
   "execution_count": null,
   "metadata": {
    "scrolled": true
   },
   "outputs": [],
   "source": [
    "print_interval = 100\n",
    "save_interval = 1000\n",
    "\n",
    "lr = 0.001\n",
    "\n",
    "train_loss = []\n",
    "dev_loss = []\n",
    "\n",
    "train_accuracy = []\n",
    "dev_accuracy = []\n",
    "\n",
    "learning_rate = []\n",
    "\n",
    "with tf.Session() as session:\n",
    "\n",
    "    session.run(tf.global_variables_initializer())\n",
    "    saver = tf.train.Saver()\n",
    "\n",
    "    coord = tf.train.Coordinator()\n",
    "\n",
    "    threads = tf.train.start_queue_runners(coord=coord)\n",
    "    #saver.restore(session, 'chkpt/seq2seq_twitter_test_2-5001')\n",
    "\n",
    "\n",
    "    for epoch in range(training_params['n_epochs']):\n",
    "\n",
    "        start_time = time.time()\n",
    "\n",
    "        session.run(train_op, feed_dict={'starter_learning_rate:0':lr})\n",
    "        #session.run(train_op)\n",
    "\n",
    "        if epoch % print_interval == 0: \n",
    "\n",
    "            print ('epoch:%d, global_step:%s, learning rate:%.3g' % \n",
    "                       (epoch, tf.train.global_step(session, global_step), \n",
    "                        session.run(optimizer._lr, feed_dict={'starter_learning_rate:0':lr})))\n",
    "\n",
    "            train_minibatch_loss,  train_minibatch_accuracy = session.run([train_model.loss, train_model.accuracy], \n",
    "                                                                          feed_dict={'starter_learning_rate:0':lr})\n",
    "\n",
    "            train_loss.append([tf.train.global_step(session, global_step), train_minibatch_loss])  \n",
    "            train_accuracy.append([tf.train.global_step(session, global_step), train_minibatch_accuracy])  \n",
    "\n",
    "            print ('training minibatch loss:%.6g' % (train_minibatch_loss))\n",
    "            print ('training minibatch accuracy:%.6g' % (train_minibatch_accuracy))\n",
    "\n",
    "            validate(train=True)\n",
    "\n",
    "            dev_model_loss, dev_model_accuracy = session.run([dev_model.loss, dev_model.accuracy])            \n",
    "\n",
    "            print ('dev minibatch loss:%.6g' %  (dev_model_loss))\n",
    "            print ('dev minibatch accuracy:%.6g' %  (dev_model_accuracy))\n",
    "\n",
    "            dev_loss.append([tf.train.global_step(session, global_step), dev_model_loss])\n",
    "\n",
    "            dev_accuracy.append([tf.train.global_step(session, global_step), dev_model_accuracy])\n",
    "\n",
    "            learning_rate.append([tf.train.global_step(session, global_step), \n",
    "                                  session.run(optimizer._lr, feed_dict={'starter_learning_rate:0':lr})])\n",
    "\n",
    "            validate(train=False)\n",
    "\n",
    "            print ('Epoch:%d finished, time:%.4g' % (epoch, time.time() - start_time))\n",
    "\n",
    "        if (epoch % save_interval == 0):# & (epoch!=0): \n",
    "\n",
    "            saver.save(session, '../chkpt/seq2seq_twitter_testing', global_step = tf.train.global_step(session, global_step))\n",
    "\n",
    "            print ('Session saved')\n",
    "\n",
    "    coord.request_stop()\n",
    "    coord.join(threads)\n",
    "\n",
    "session.close()"
   ]
  },
  {
   "cell_type": "code",
   "execution_count": 15,
   "metadata": {},
   "outputs": [],
   "source": [
    "session.close()"
   ]
  },
  {
   "cell_type": "code",
   "execution_count": 16,
   "metadata": {},
   "outputs": [
    {
     "data": {
      "image/png": "[encoded data removed]",
      "text/plain": [
       "<matplotlib.figure.Figure at 0x188129dfeb8>"
      ]
     },
     "metadata": {},
     "output_type": "display_data"
    }
   ],
   "source": [
    "plt.plot(list(zip(*dev_loss))[0], list(zip(*dev_loss))[1], label='Dev set')\n",
    "plt.plot(list(zip(*train_loss))[0], list(zip(*train_loss))[1], label='Train set')\n",
    "plt.xlabel('Global Step')\n",
    "plt.ylabel('Sequence Loss')\n",
    "#plt.title('Seq2Seq Twitter Data')\n",
    "#plt.title(' '.join(['%s:%d' % (i, j) for i,j in zip(model_params.keys(), model_params.values())]))\n",
    "plt.legend(loc='best')\n",
    "plt.show()"
   ]
  },
  {
   "cell_type": "code",
   "execution_count": 18,
   "metadata": {},
   "outputs": [
    {
     "data": {
      "image/png": "[encoded data removed]",
      "text/plain": [
       "<matplotlib.figure.Figure at 0x18812b56518>"
      ]
     },
     "metadata": {},
     "output_type": "display_data"
    }
   ],
   "source": [
    "plt.plot(list(zip(*dev_accuracy))[0], list(zip(*dev_accuracy))[1], label='Dev set')\n",
    "plt.plot(list(zip(*train_accuracy))[0], list(zip(*train_accuracy))[1], label='Train set')\n",
    "plt.xlabel('Global Step')\n",
    "plt.ylabel('Sequence Loss')\n",
    "#plt.title('Seq2Seq Twitter Data')\n",
    "#plt.title(' '.join(['%s:%d' % (i, j) for i,j in zip(model_params.keys(), model_params.values())]))\n",
    "plt.legend(loc='best')\n",
    "plt.show()"
   ]
  },
  {
   "cell_type": "code",
   "execution_count": 15,
   "metadata": {},
   "outputs": [],
   "source": [
    "tf.reset_default_graph()\n",
    "\n",
    "with tf.variable_scope('training_model'):\n",
    "\n",
    "    inf_model = create_model.Model(dev_model_params, 'infer', test_data[:20])"
   ]
  },
  {
   "cell_type": "code",
   "execution_count": 20,
   "metadata": {},
   "outputs": [
    {
     "name": "stdout",
     "output_type": "stream",
     "text": [
      "INFO:tensorflow:Restoring parameters from ../chkpt/seq2seq_twitter_testing-1\n"
     ]
    },
    {
     "name": "stderr",
     "output_type": "stream",
     "text": [
      "INFO:tensorflow:Restoring parameters from ../chkpt/seq2seq_twitter_testing-1\n"
     ]
    },
    {
     "name": "stdout",
     "output_type": "stream",
     "text": [
      "###0###\n",
      "e_in ['rothman', 'readership', 'mix', 'dod']\n",
      "dt_inf ['crestfallen', 'shenandoah', 'uofm', 'shenandoah', 'shenandoah', 'shenandoah', 'shenandoah']\n",
      "dt_inf ['crestfallen', 'shenandoah', 'shenandoah', 'uofm', 'shenandoah', 'shenandoah', 'shenandoah']\n",
      "dt_inf ['crestfallen', 'shenandoah', 'shenandoah', 'shenandoah', 'shenandoah', 'shenandoah', 'shenandoah']\n"
     ]
    }
   ],
   "source": [
    "gpu_options = tf.GPUOptions(per_process_gpu_memory_fraction=1)\n",
    "with tf.Session(config=tf.ConfigProto(gpu_options=gpu_options)) as session:\n",
    "    \n",
    "    session.run(tf.global_variables_initializer())\n",
    "    saver = tf.train.Saver()\n",
    "    coord = tf.train.Coordinator()\n",
    "   \n",
    "    threads = tf.train.start_queue_runners(coord=coord)\n",
    "    #saver.restore(session, 'd:\\coding\\seq2seq_2\\seq2seq\\chkpt\\seq2seq_twitter_queue-1')\n",
    "    saver.restore(session, '../chkpt/seq2seq_twitter_testing-1')\n",
    "    \n",
    "    #inf_out = session.run([inf_model.decoder_pred_decode, inf_model.decoder_pred_decode_prob], feed_dict_inf)\n",
    "    inf_out = session.run([inf_model.encoder_inputs, inf_model.decoder_pred_decode],\n",
    "            feed_dict = {'training_model/encoder_inputs:0':[[4,5,6,7]], 'training_model/encoder_inputs_length:0':[4]})\n",
    "    \n",
    "    encoder_input = inf_out[0]\n",
    "    #decoder_target = inf_out[1]\n",
    "    decoder_inference = inf_out[1]\n",
    "    \n",
    "    coord.request_stop()\n",
    "    coord.join(threads)\n",
    "\n",
    "    for idx, e_in in enumerate(encoder_input):\n",
    "                \n",
    "        print ('###%d###' % idx)\n",
    "        \n",
    "        print ('e_in', decodeSent(e_in))\n",
    "        #print ('d_in', decodeSent(dt_in))        \n",
    "        beam_inf = list(zip(*decoder_inference[idx]))\n",
    "        for idx_inf, dt_inf in enumerate(beam_inf):\n",
    "\n",
    "            print ('dt_inf', decodeSent(dt_inf))\n",
    "            if idx_inf>1: break                "
   ]
  },
  {
   "cell_type": "code",
   "execution_count": null,
   "metadata": {},
   "outputs": [],
   "source": []
  }
 ],
 "metadata": {
  "kernelspec": {
   "display_name": "Python 3",
   "language": "python",
   "name": "python3"
  },
  "language_info": {
   "codemirror_mode": {
    "name": "ipython",
    "version": 3
   },
   "file_extension": ".py",
   "mimetype": "text/x-python",
   "name": "python",
   "nbconvert_exporter": "python",
   "pygments_lexer": "ipython3",
   "version": "3.5.4"
  }
 },
 "nbformat": 4,
 "nbformat_minor": 2
}
